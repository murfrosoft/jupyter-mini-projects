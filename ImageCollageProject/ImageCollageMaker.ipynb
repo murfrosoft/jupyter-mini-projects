{
 "cells": [
  {
   "cell_type": "markdown",
   "metadata": {},
   "source": [
    "Goal: Allow the user to create a directory of small images (of the same size?) and use them as a data set to mask an image.  This example code will try to find the closest match based on RGB similarties between image region and sample images."
   ]
  },
  {
   "cell_type": "code",
   "execution_count": 1,
   "metadata": {},
   "outputs": [],
   "source": [
    "from PIL import Image\n",
    "from os import listdir\n",
    "from IPython.core.display import display, HTML\n",
    "# NOTE: update to work with different image source\n",
    "#emojiCharSet_24x24_35.png"
   ]
  },
  {
   "cell_type": "code",
   "execution_count": 2,
   "metadata": {},
   "outputs": [],
   "source": [
    "# Read average RGB values for this image\n",
    "def imageRGBs( image ):\n",
    "    #image = 'files/imageset/csharp.png'\n",
    "    im = Image.open(image)\n",
    "    width, height = im.size\n",
    "    pix = im.load()\n",
    "    r = 0\n",
    "    g = 0\n",
    "    b = 0\n",
    "    count = width*height\n",
    "    for w in range(width):\n",
    "        for h in range(height):\n",
    "            r += pix[w,h][0]\n",
    "            g += pix[w,h][1]\n",
    "            b += pix[w,h][2]\n",
    "    print(image,(int(r/count), int(g/count),int(b/count)))\n",
    "    return (image,(int(r/count), int(g/count),int(b/count)))"
   ]
  },
  {
   "cell_type": "code",
   "execution_count": 12,
   "metadata": {},
   "outputs": [],
   "source": [
    "def makeCharImageSet( directory, height ):\n",
    "    '''inputs: directory of images, height in pixels of output imageset\n",
    "    outputs: filename of output imageset'''\n",
    "    width = height*len(listdir(directory))\n",
    "    # Create shell of resulting image\n",
    "    resultImg = Image.new('RGB', (width,height))\n",
    "    count = 0\n",
    "    for image in listdir(directory):\n",
    "        path = directory + '/' + image\n",
    "        im = Image.open( path )\n",
    "        resultImg.paste(im, (count*height,0))\n",
    "        count += 1\n",
    "    resultImg.save('charImageSet.jpg','JPEG')\n",
    "    display(HTML('<img src=\"charImageSet.jpg\">'))\n",
    "    return 'charImageSet.jpg'"
   ]
  },
  {
   "cell_type": "code",
   "execution_count": 15,
   "metadata": {},
   "outputs": [],
   "source": [
    "def get_RGB_dictionary(imageset, size):\n",
    "    '''inputs: image containing uniform sized icons, size in pixels of each icon\n",
    "    outputs: a list of icon index and average RGB values'''\n",
    "    results = []  # store image index and average RGB tuples (1, (0,0,0))\n",
    "\n",
    "    im = Image.open(imageset)\n",
    "    width, height = im.size\n",
    "    pix = im.load()\n",
    "    index = 0\n",
    "    for box in range(0,width,size):   # 0, 48, 96... moving x starting place\n",
    "        r = 0\n",
    "        g = 0\n",
    "        b = 0\n",
    "        for w in range(box, box+size):\n",
    "            for h in range(height):\n",
    "                r += pix[w,h][0]\n",
    "                g += pix[w,h][1]\n",
    "                b += pix[w,h][2]\n",
    "        avgR = r/(size**2)\n",
    "        avgG = g/(size**2)\n",
    "        avgB = b/(size**2)\n",
    "        results.append( (index, (avgR,avgG,avgB)) )\n",
    "        index += 1\n",
    "    return results"
   ]
  },
  {
   "cell_type": "code",
   "execution_count": 33,
   "metadata": {},
   "outputs": [],
   "source": [
    "# find an image to convert to an alternate image set.  open this image and scale to a certain % size\n",
    "def scaleInputImage( image_path, width_multiple, height_multiple, scale):\n",
    "    im = Image.open(image_path)\n",
    "    print(im.width, im.height)\n",
    "    print(im.width-im.width%width_multiple,im.height-im.height%height_multiple)\n",
    "    imresize = im.resize(((im.width-im.width%width_multiple)*scale, (im.height-im.height%height_multiple)*scale), Image.ANTIALIAS)\n",
    "\n",
    "    newname = image_path.split('.')[0] + '_%dx%d.png' %(width_multiple,height_multiple)\n",
    "    imresize.save(newname)\n",
    "    return newname"
   ]
  },
  {
   "cell_type": "code",
   "execution_count": 30,
   "metadata": {},
   "outputs": [],
   "source": [
    "def findClosestRGB( testTuple, replaceList ):\n",
    "    # testTuple in form (avgR, avgG, argB)\n",
    "    # replaceList in form [ (index, (avgR, avgG, avgB)), ... ]\n",
    "    minDiff = 3*255\n",
    "    minIndex = 0\n",
    "    for icon in replaceList:\n",
    "        idx = icon[0]\n",
    "        iR = icon[1][0]\n",
    "        iG = icon[1][1]\n",
    "        iB = icon[1][2]\n",
    "        diff = abs(testTuple[0]-iR) + abs(testTuple[1]-iG) + abs(testTuple[2]-iB)\n",
    "        if diff < minDiff:\n",
    "            minIndex = idx\n",
    "            minDiff = diff\n",
    "    return minIndex"
   ]
  },
  {
   "cell_type": "code",
   "execution_count": 48,
   "metadata": {},
   "outputs": [
    {
     "data": {
      "text/html": [
       "<img src=\"charImageSet.jpg\">"
      ],
      "text/plain": [
       "<IPython.core.display.HTML object>"
      ]
     },
     "metadata": {},
     "output_type": "display_data"
    },
    {
     "name": "stdout",
     "output_type": "stream",
     "text": [
      "(1) replacement imageset created: charImageSet.jpg\n",
      "(2) list of replacment RGB values created: 31 items\n",
      "1180 842\n",
      "1152 816\n",
      "(3) test image scaled. ready to be processed: test_48x48.png\n",
      "Done.\n"
     ]
    }
   ],
   "source": [
    "# input arguments:\n",
    "imageDirectory = 'imageset'\n",
    "size = 48\n",
    "testImage = 'test.jpg'\n",
    "\n",
    "# STEP 1: Create a single image set out of a directory of sample images.\n",
    "replaceImage = makeCharImageSet(imageDirectory, size)\n",
    "print('(1) replacement imageset created:', replaceImage)\n",
    "\n",
    "# STEP 2: Scan through the replaceImage file and create a list of\n",
    "#         replaceImage avgerage RGB values\n",
    "replaceRGBlist = get_RGB_dictionary(replaceImage, size)\n",
    "print('(2) list of replacment RGB values created: %d items' %(len(replaceRGBlist)))\n",
    "#print(replaceRGBlist,'\\n')\n",
    "    \n",
    "# STEP 3: Scale test image so that it has %size dimensions\n",
    "# TODO: update algorithm below so that this isn't required\n",
    "testImage = scaleInputImage(testImage, size, size, 4)\n",
    "print('(3) test image scaled. ready to be processed:', testImage)\n",
    "\n",
    "# STEP 4: \n",
    "# scan through the scaled test image in chuncks of 48x48 (or custom) and find the average RGB for each region\n",
    "# next, compare that average RGB against the test set to find the closest match.\n",
    "# finally, replace this image with the test set image.\n",
    " \n",
    "im = Image.open(testImage)\n",
    "pix = im.load()\n",
    "\n",
    "replaceImage = Image.open(replaceImage)\n",
    "#charpix = charimg.load()\n",
    "\n",
    "for boxX in range(0,im.width,size):\n",
    "    for boxY in range(0,im.height,size):\n",
    "        # loop over each box\n",
    "        r = 0\n",
    "        g = 0\n",
    "        b = 0\n",
    "        for x in range(boxX,boxX+size):\n",
    "            for y in range(boxY, boxY+size):\n",
    "                r += pix[x,y][0]\n",
    "                g += pix[x,y][1]\n",
    "                b += pix[x,y][2]\n",
    "        # average the r,g,b pixel values\n",
    "        rAvg = r/(size*size)\n",
    "        gAvg = g/(size*size)\n",
    "        bAvg = b/(size*size)\n",
    "        avgRGB = (rAvg, gAvg, bAvg)\n",
    "        # next, compare this tuple of averaged RGB values\n",
    "        # against the averaged RGB tuples in the replacement image set\n",
    "        # the method will return the location in the replacement image\n",
    "        # set with the minimum difference\n",
    "        \n",
    "        index = findClosestRGB( avgRGB, replaceRGBlist )\n",
    "        #print(avgRGB,'index',index)\n",
    "        #top,bot = topBot(pix, i, j, 48, 48)\n",
    "        \n",
    "        #index = picChar(_charDict, (top,bot))\n",
    "        \n",
    "        chop = replaceImage.crop((index*size,0,index*size+size,size))\n",
    "        im.paste(chop, (boxX,boxY,boxX+size,boxY+size))\n",
    "        \n",
    "im.save('result.png')\n",
    "print('Done.')\n",
    "\n",
    "\n",
    "\n",
    "\n"
   ]
  }
 ],
 "metadata": {
  "kernelspec": {
   "display_name": "Python 3",
   "language": "python",
   "name": "python3"
  },
  "language_info": {
   "codemirror_mode": {
    "name": "ipython",
    "version": 3
   },
   "file_extension": ".py",
   "mimetype": "text/x-python",
   "name": "python",
   "nbconvert_exporter": "python",
   "pygments_lexer": "ipython3",
   "version": "3.7.3"
  }
 },
 "nbformat": 4,
 "nbformat_minor": 2
}
