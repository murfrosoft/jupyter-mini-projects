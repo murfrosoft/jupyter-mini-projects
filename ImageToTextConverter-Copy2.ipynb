{
 "cells": [
  {
   "cell_type": "markdown",
   "metadata": {},
   "source": [
    "Goal: Allow the user to create a directory of small images (of the same size?) and use them as a data set to mask an image.  This example code will try to find the closest match based on RGB similarties between image region and sample images."
   ]
  },
  {
   "cell_type": "code",
   "execution_count": 2,
   "metadata": {},
   "outputs": [],
   "source": [
    "from PIL import Image\n",
    "from os import listdir\n",
    "# NOTE: update to work with different image source\n",
    "#emojiCharSet_24x24_35.png"
   ]
  },
  {
   "cell_type": "code",
   "execution_count": 21,
   "metadata": {},
   "outputs": [
    {
     "name": "stdout",
     "output_type": "stream",
     "text": [
      "files/imageset/cpp.png\n",
      "files/imageset/cpp.png (144, 190, 222)\n",
      "files/imageset/csharp.png\n",
      "files/imageset/csharp.png (194, 157, 196)\n",
      "files/imageset/jupyter.png\n",
      "files/imageset/jupyter.png (240, 224, 214)\n",
      "files/imageset/python.png\n",
      "files/imageset/python.png (60, 65, 46)\n",
      "files/imageset/python2.png\n",
      "files/imageset/python2.png (201, 205, 182)\n",
      "files/imageset/vstudio.png\n",
      "files/imageset/vstudio.png (182, 147, 190)\n"
     ]
    }
   ],
   "source": [
    "# TODO: Read all images in a folder and create a dictionary of image:(rgb) data.\n",
    "filepath = 'files/imageset'\n",
    "for f in listdir(filepath):\n",
    "    print(filepath+'/'+f)\n",
    "    imageRGBs(filepath+'/'+f)"
   ]
  },
  {
   "cell_type": "code",
   "execution_count": 19,
   "metadata": {},
   "outputs": [],
   "source": [
    "# Read average RGB values for this image\n",
    "def imageRGBs( image ):\n",
    "    #image = 'files/imageset/csharp.png'\n",
    "    im = Image.open(image)\n",
    "    width, height = im.size\n",
    "    pix = im.load()\n",
    "    r = 0\n",
    "    g = 0\n",
    "    b = 0\n",
    "    count = width*height\n",
    "    for w in range(width):\n",
    "        for h in range(height):\n",
    "            r += pix[w,h][0]\n",
    "            g += pix[w,h][1]\n",
    "            b += pix[w,h][2]\n",
    "    print(image,(int(r/count), int(g/count),int(b/count)))\n",
    "    return (image,(int(r/count), int(g/count),int(b/count)))"
   ]
  },
  {
   "cell_type": "code",
   "execution_count": 25,
   "metadata": {},
   "outputs": [],
   "source": [
    "# find an image to convert to an alternate image set.  open this image and scale to a certain % size\n",
    "def fitTestImage( image_path, width_scale, height_scale):\n",
    "    scale = 2\n",
    "    im = Image.open(image_path)\n",
    "    print(im.width, im.height)\n",
    "    print(im.width-im.width%width_scale,im.height-im.height%height_scale)\n",
    "    imresize = im.resize(((im.width-im.width%width_scale)*scale, (im.height-im.height%height_scale)*scale), Image.ANTIALIAS)\n",
    "\n",
    "    newname = image_path.split('.')[0] + 'r.png'\n",
    "    imresize.save(newname)\n",
    "    return newname"
   ]
  },
  {
   "cell_type": "code",
   "execution_count": 26,
   "metadata": {},
   "outputs": [
    {
     "name": "stdout",
     "output_type": "stream",
     "text": [
      "664 830\n",
      "624 816\n"
     ]
    },
    {
     "data": {
      "text/plain": [
       "'Files/testr.png'"
      ]
     },
     "execution_count": 26,
     "metadata": {},
     "output_type": "execute_result"
    }
   ],
   "source": [
    "fitTestImage('Files/'+ 'test.jpg', 48, 48)"
   ]
  },
  {
   "cell_type": "code",
   "execution_count": null,
   "metadata": {},
   "outputs": [],
   "source": [
    "# scan through the scaled test image in chuncks of 48x48 (or custom) and find the average RGB for each region\n",
    "# next, compare that average RGB against the test set to find the closest match.\n",
    "# finally, replace this image with the test set image.\n",
    "im = Image.open('Files/testr.png')\n",
    "pix = im.load()\n",
    "\n",
    "charimg = Image.open(FilePath)\n",
    "charpix = charimg.load()\n",
    "\n",
    "for i in range(0,im.width,48):\n",
    "    for j in range(0,im.height,48):\n",
    "        top,bot = topBot(pix, i, j, 48, 48)\n",
    "        \n",
    "        index = picChar(_charDict, (top,bot))\n",
    "        \n",
    "        chop = charimg.crop((index*_w,0,index*_w+_w,_h))\n",
    "        \n",
    "        im.paste(chop, (i,j,i+_w,j+_h))\n",
    "        \n",
    "im.save('Files\\\\' + testfilename.split('.')[0] + '_emoji.png')\n",
    "\n",
    "\n",
    "\n",
    "\n",
    "\n"
   ]
  },
  {
   "cell_type": "code",
   "execution_count": 2,
   "metadata": {},
   "outputs": [],
   "source": [
    "def topBot( pix, xo, yo, width, height ):\n",
    "    top = 0\n",
    "    bot = 0\n",
    "    for x in range(xo, xo+width):  # was +9\n",
    "        for y in range(yo, yo+height//2):  # was +8\n",
    "            # find average top half\n",
    "            avg = (pix[x,y][0] + pix[x,y][1] + pix[x,y][2]) / 3\n",
    "            top += avg \n",
    "        for y in range(yo+height//2,yo+height):  # was +8 +16\n",
    "            # find average bottom half\n",
    "            avg = (pix[x,y][0] + pix[x,y][1] + pix[x,y][2]) / 3\n",
    "            bot += avg\n",
    "    top = top // (width*height//2)\n",
    "    bot = bot // (width*height//2)\n",
    "    return top,bot"
   ]
  },
  {
   "cell_type": "code",
   "execution_count": 3,
   "metadata": {},
   "outputs": [],
   "source": [
    "def picChar( cDict, topBotTup ):\n",
    "    # return the index of the dictionary with the closest match\n",
    "    _minDiff = 512\n",
    "    _minIndex = 0\n",
    "    top = topBotTup[0]\n",
    "    bot = topBotTup[1]\n",
    "    for key in cDict:\n",
    "        t = cDict[key][0]\n",
    "        b = cDict[key][1]\n",
    "        diff = (max(t,top)-min(t,top)) + (max(b,bot)-min(b,bot))\n",
    "        if diff < _minDiff:\n",
    "            _minDiff = diff\n",
    "            _minIndex = key\n",
    "    return _minIndex"
   ]
  },
  {
   "cell_type": "code",
   "execution_count": 4,
   "metadata": {},
   "outputs": [
    {
     "name": "stdout",
     "output_type": "stream",
     "text": [
      "100.0 1.6451612903225807\n"
     ]
    }
   ],
   "source": [
    "#charset = 'abcdefghijklmnopqrstuvwxyzABCDEFGHIJKLMNOPQRSTUVWXYZ'\n",
    "#charset += '.,/;\\'<>?:\"[]{}\\\\|`1234567890-=~!@#$%^&*()_+ '\n",
    "#FilePath = 'Files\\\\CharacterData.png'\n",
    "\n",
    "# alternate attempt\n",
    "#charset = 'robctpusROBCTPUS '\n",
    "#FilePath = 'Files\\\\CharacterDataRob.png'\n",
    "\n",
    "# mario data\n",
    "#FilePath = 'Files\\\\marioCharSet.png'\n",
    "#_w = 16\n",
    "#_h = 32\n",
    "#_count = 320\n",
    "\n",
    "# emoji data\n",
    "FilePath = 'Files\\\\emojiCharSet_20x20_93.png'\n",
    "_w = 20\n",
    "_h = 20\n",
    "_count = 93\n",
    "\n",
    "# I need to create a dictionary of character pixel information in the form:\n",
    "# (index: (top_intensity,bottom_intensity))  i.e. (0: (10,20))\n",
    "# Note: FilePath needs to be the path to an image file containing fixed-width\n",
    "# font characters on a single line.\n",
    "# Note 2: This algorithm is hard-coded for 12-point Consolas font with a\n",
    "#         character width of 9 pixels and a character height of 16 pixels\n",
    "im = Image.open(FilePath)\n",
    "pix = im.load()\n",
    "_charDict = {}\n",
    "for i in range(_count):\n",
    "    top,bot = topBot( pix, i*_w, 0, _w, _h)\n",
    "    _charDict[i] = (top,bot)\n",
    "\n",
    "# Next, determine what the lowest intensity value is so we can normalize to this \n",
    "# value (otherwise we get images full of '@' characters because average images\n",
    "# are dark!)\n",
    "lowest = 255\n",
    "for key in _charDict:\n",
    "    if( _charDict[key][0] < lowest ):\n",
    "        lowest = _charDict[key][0]\n",
    "    if( _charDict[key][1] < lowest ):\n",
    "        lowest = _charDict[key][1]\n",
    "norm = 255/(255-lowest)\n",
    "print(lowest, norm)\n",
    "\n",
    "# normalize dictionary\n",
    "for key in _charDict:\n",
    "    normTop = int((_charDict[key][0] - lowest)*norm)\n",
    "    normBot = int((_charDict[key][1] - lowest)*norm)\n",
    "    _charDict[key] = ( normTop, normBot )"
   ]
  },
  {
   "cell_type": "code",
   "execution_count": 5,
   "metadata": {},
   "outputs": [],
   "source": [
    "# Debug: look at top/bottom intensities for each indexed character\n",
    "#for item in _charDict:\n",
    "#    print(item,_charDict[item])"
   ]
  },
  {
   "cell_type": "code",
   "execution_count": 7,
   "metadata": {},
   "outputs": [
    {
     "name": "stdout",
     "output_type": "stream",
     "text": [
      "664 830\n",
      "660 820\n"
     ]
    }
   ],
   "source": [
    "testfilename = 'test.jpg'\n",
    "scale = 2\n",
    "im = Image.open('Files\\\\' + testfilename)\n",
    "print(im.width, im.height)\n",
    "print(im.width-im.width%_w,im.height-im.height%_h)\n",
    "imresize = im.resize(((im.width-im.width%_w)*scale, (im.height-im.height%_h)*scale), Image.ANTIALIAS)\n",
    "\n",
    "newname = testfilename.split('.')[0] + 'r.png'\n",
    "imresize.save('Files\\\\' + newname)"
   ]
  },
  {
   "cell_type": "code",
   "execution_count": 8,
   "metadata": {},
   "outputs": [],
   "source": [
    "im = Image.open('Files\\\\' + newname)\n",
    "pix = im.load()\n",
    "\n",
    "charimg = Image.open(FilePath)\n",
    "charpix = charimg.load()\n",
    "\n",
    "for i in range(0,im.width,_w):\n",
    "    for j in range(0,im.height,_h):\n",
    "        top,bot = topBot(pix, i, j, _w, _h)\n",
    "        index = picChar(_charDict, (top,bot))\n",
    "        chop = charimg.crop((index*_w,0,index*_w+_w,_h))\n",
    "        im.paste(chop, (i,j,i+_w,j+_h))\n",
    "im.save('Files\\\\' + testfilename.split('.')[0] + '_emoji.png')"
   ]
  },
  {
   "cell_type": "code",
   "execution_count": null,
   "metadata": {},
   "outputs": [],
   "source": []
  }
 ],
 "metadata": {
  "kernelspec": {
   "display_name": "Python 3",
   "language": "python",
   "name": "python3"
  },
  "language_info": {
   "codemirror_mode": {
    "name": "ipython",
    "version": 3
   },
   "file_extension": ".py",
   "mimetype": "text/x-python",
   "name": "python",
   "nbconvert_exporter": "python",
   "pygments_lexer": "ipython3",
   "version": "3.7.3"
  }
 },
 "nbformat": 4,
 "nbformat_minor": 2
}
